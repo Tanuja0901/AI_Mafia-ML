{
 "cells": [
  {
   "cell_type": "markdown",
   "id": "b6ba4d18",
   "metadata": {},
   "source": [
    "# Python"
   ]
  },
  {
   "cell_type": "markdown",
   "id": "f585656f",
   "metadata": {},
   "source": [
    "- Python Basics\n",
    "- Variables and Data Types\n",
    "- Explicit Line joining\n",
    "- Escape sequences\n",
    "- Input and Output in Python\n",
    "- Print Function\n",
    "- Formating In strings\n",
    "- Pickling \n",
    "- Operations and Expressions\\\n",
    "Arithmeric operators\\\n",
    "Logical operators\\\n",
    "Conditional Operators\\\n",
    "Bitwise Operators\\\n",
    "Assignment Operators\n",
    "- Loops - for loops, while loops, for each loop\n",
    "- Functions\n",
    "- Keyword Arguments\n",
    "- Var Args\n",
    "- List Comprehentions\n",
    "- Python Data Structures\\\n",
    "Strings\\\n",
    "Lists\\\n",
    "Tuples\\\n",
    "Dictionaries\\\n",
    "Sets\\\n",
    "- Advance Concepts Python\n",
    "-- Classes and objects (OOPS)\n",
    "--Exception Handling"
   ]
  },
  {
   "cell_type": "markdown",
   "id": "d9d11110",
   "metadata": {},
   "source": [
    "# Python Basics"
   ]
  },
  {
   "cell_type": "markdown",
   "id": "6b2bf53a",
   "metadata": {},
   "source": [
    "Comments - Code tells you how, comments tells you why\\\n",
    "\n"
   ]
  },
  {
   "cell_type": "code",
   "execution_count": 1,
   "id": "8abc3d4f",
   "metadata": {},
   "outputs": [
    {
     "name": "stdout",
     "output_type": "stream",
     "text": [
      "Hello\n"
     ]
    }
   ],
   "source": [
    "print(\"Hello\")"
   ]
  },
  {
   "cell_type": "code",
   "execution_count": 2,
   "id": "a9987718",
   "metadata": {},
   "outputs": [
    {
     "name": "stdout",
     "output_type": "stream",
     "text": [
      "a\n",
      "a Good morning\n"
     ]
    }
   ],
   "source": [
    "name = input()\n",
    "print(name,end=\" \")\n",
    "print(\"Good morning\")"
   ]
  },
  {
   "cell_type": "code",
   "execution_count": 3,
   "id": "8338414b",
   "metadata": {},
   "outputs": [
    {
     "name": "stdout",
     "output_type": "stream",
     "text": [
      "93326215443944152681699238856266700490715968264381621468592963895217599993229915608941463976156518286253697920827223758251185210916864000000000000000000000000\n"
     ]
    }
   ],
   "source": [
    "import math\n",
    "print(math.factorial(100))"
   ]
  },
  {
   "cell_type": "code",
   "execution_count": 4,
   "id": "486e2cbf",
   "metadata": {},
   "outputs": [],
   "source": [
    "print?"
   ]
  },
  {
   "cell_type": "code",
   "execution_count": 5,
   "id": "6878335b",
   "metadata": {},
   "outputs": [
    {
     "name": "stdout",
     "output_type": "stream",
     "text": [
      "Help on built-in function print in module builtins:\n",
      "\n",
      "print(...)\n",
      "    print(value, ..., sep=' ', end='\\n', file=sys.stdout, flush=False)\n",
      "    \n",
      "    Prints the values to a stream, or to sys.stdout by default.\n",
      "    Optional keyword arguments:\n",
      "    file:  a file-like object (stream); defaults to the current sys.stdout.\n",
      "    sep:   string inserted between values, default a space.\n",
      "    end:   string appended after the last value, default a newline.\n",
      "    flush: whether to forcibly flush the stream.\n",
      "\n"
     ]
    }
   ],
   "source": [
    "help(print)#Single line comment"
   ]
  },
  {
   "cell_type": "code",
   "execution_count": 6,
   "id": "a7bea755",
   "metadata": {},
   "outputs": [
    {
     "data": {
      "text/plain": [
       "'Multiline comment\\nhello\\n'"
      ]
     },
     "execution_count": 6,
     "metadata": {},
     "output_type": "execute_result"
    }
   ],
   "source": [
    "'''Multiline comment\n",
    "hello\n",
    "'''\n",
    "#the above is string"
   ]
  },
  {
   "cell_type": "markdown",
   "id": "9e49e003",
   "metadata": {},
   "source": [
    "# Variable and Data types"
   ]
  },
  {
   "cell_type": "code",
   "execution_count": 7,
   "id": "d78f58a0",
   "metadata": {},
   "outputs": [
    {
     "name": "stdout",
     "output_type": "stream",
     "text": [
      "20\n",
      "<class 'int'>\n",
      "2954593528720\n",
      "20\n",
      "<class 'int'>\n",
      "2954593528720\n"
     ]
    }
   ],
   "source": [
    "first = 20\n",
    "print(first)\n",
    "print(type(first))\n",
    "print(id(first))\n",
    "\n",
    "second = first\n",
    "print(second)\n",
    "print(type(second))\n",
    "print(id(second))"
   ]
  },
  {
   "cell_type": "code",
   "execution_count": 8,
   "id": "b91a2ed9",
   "metadata": {},
   "outputs": [
    {
     "name": "stdout",
     "output_type": "stream",
     "text": [
      "<class 'int'>\n"
     ]
    }
   ],
   "source": [
    "a = 1\n",
    "print(type(a))"
   ]
  },
  {
   "cell_type": "code",
   "execution_count": 9,
   "id": "f6b14cf6",
   "metadata": {},
   "outputs": [
    {
     "name": "stdout",
     "output_type": "stream",
     "text": [
      "<class 'float'>\n"
     ]
    }
   ],
   "source": [
    "b = 1.2\n",
    "print(type(b))"
   ]
  },
  {
   "cell_type": "code",
   "execution_count": 10,
   "id": "644c7ed6",
   "metadata": {},
   "outputs": [
    {
     "name": "stdout",
     "output_type": "stream",
     "text": [
      "<class 'str'> <class 'str'> <class 'str'>\n"
     ]
    }
   ],
   "source": [
    "c1 = 'x'\n",
    "c2 = \"Hello\"\n",
    "c3 = '''Hi Everyone!'''\n",
    "print(type(c1),type(c2),type(c3))"
   ]
  },
  {
   "cell_type": "markdown",
   "id": "9d2b637f",
   "metadata": {},
   "source": [
    "Complex Data type in python -\n",
    "Python uses A+Bj notation to represent complex number meaning python will recognize 3+4j as a valid number but 3+4i is not valid."
   ]
  },
  {
   "cell_type": "code",
   "execution_count": 11,
   "id": "10ba336c",
   "metadata": {},
   "outputs": [
    {
     "name": "stdout",
     "output_type": "stream",
     "text": [
      "<class 'complex'>\n",
      "(5+7j)\n"
     ]
    }
   ],
   "source": [
    "d = 3+4j\n",
    "print(type(d))\n",
    "\n",
    "d1=5\n",
    "d2=7\n",
    "d3=complex(d1,d2)\n",
    "print(d3)"
   ]
  },
  {
   "cell_type": "markdown",
   "id": "c80ea0c8",
   "metadata": {},
   "source": [
    "# Explicit line joining"
   ]
  },
  {
   "cell_type": "code",
   "execution_count": 12,
   "id": "d4c27944",
   "metadata": {},
   "outputs": [
    {
     "name": "stdout",
     "output_type": "stream",
     "text": [
      "this is a strigthis is a new line stringit will continue\n",
      "hello\n",
      "hi\n",
      "\n",
      "hellohi\n"
     ]
    }
   ],
   "source": [
    "#Explicit line joining\n",
    "a = \"this is a strig\\\n",
    "this is a new line string\\\n",
    "it will continue\\\n",
    "\"\n",
    "b = '''hello\n",
    "hi\n",
    "'''\n",
    "c= '''hello\\\n",
    "hi\\\n",
    "'''\n",
    "print(a)\n",
    "print(b)\n",
    "print(c)"
   ]
  },
  {
   "cell_type": "markdown",
   "id": "75d73eb5",
   "metadata": {},
   "source": [
    "# Escape sequence"
   ]
  },
  {
   "cell_type": "code",
   "execution_count": 13,
   "id": "656a9bba",
   "metadata": {},
   "outputs": [
    {
     "name": "stdout",
     "output_type": "stream",
     "text": [
      "Hello\n",
      "\tworld\n",
      "This ia a new line character.\\n\n"
     ]
    }
   ],
   "source": [
    "#Escape sequence\n",
    "print(\"Hello\\n\\tworld\")\n",
    "print(r\"This ia a new line character.\\n\")"
   ]
  },
  {
   "cell_type": "markdown",
   "id": "a1415d3a",
   "metadata": {},
   "source": [
    "# Input and Output in Python"
   ]
  },
  {
   "cell_type": "code",
   "execution_count": 14,
   "id": "85cfec4d",
   "metadata": {},
   "outputs": [
    {
     "name": "stdout",
     "output_type": "stream",
     "text": [
      "Enter your namea\n",
      "a\n"
     ]
    }
   ],
   "source": [
    "name = input(\"Enter your name\")\n",
    "print(name)"
   ]
  },
  {
   "cell_type": "code",
   "execution_count": 15,
   "id": "9193e4b5",
   "metadata": {},
   "outputs": [
    {
     "name": "stdout",
     "output_type": "stream",
     "text": [
      "Enter 5 numbers: 1\n",
      "1\n",
      "<class 'str'>\n",
      "Enter 5 numbers: 1\n",
      "['1']\n",
      "<class 'list'>\n",
      "Copying in new list\n",
      "[1]\n",
      "<class 'list'>\n"
     ]
    }
   ],
   "source": [
    "numbers = input(\"Enter 5 numbers: \")\n",
    "print(numbers)\n",
    "print(type(numbers))\n",
    "\n",
    "numbers2= input(\"Enter 5 numbers: \").split(\" \")\n",
    "#if written simple split() then it by default takes white spaces to split it.\n",
    "print(numbers2)\n",
    "print(type(numbers2))\n",
    "\n",
    "print(\"Copying in new list\")\n",
    "new_list = []\n",
    "for i in numbers2:\n",
    "    new_list.append(int(i))\n",
    "    \n",
    "print(new_list)\n",
    "print(type(new_list))"
   ]
  },
  {
   "cell_type": "markdown",
   "id": "bfa95b9a",
   "metadata": {},
   "source": [
    "# Print Function"
   ]
  },
  {
   "cell_type": "code",
   "execution_count": 16,
   "id": "24ae49de",
   "metadata": {},
   "outputs": [
    {
     "name": "stdout",
     "output_type": "stream",
     "text": [
      "my name is Tanuja 21 35 3.5\n"
     ]
    }
   ],
   "source": [
    "print(\"my\",\"name\",\"is\",\"Tanuja\",21,35, 3.5 )"
   ]
  },
  {
   "cell_type": "code",
   "execution_count": 17,
   "id": "4048511a",
   "metadata": {},
   "outputs": [
    {
     "name": "stdout",
     "output_type": "stream",
     "text": [
      "hello\n",
      "world\n",
      "list*of*words\n"
     ]
    }
   ],
   "source": [
    "#end argument\n",
    "#sep argument\n",
    "print(\"hello\",end='\\n')\n",
    "print(\"world\")\n",
    "print(\"list\",\"of\",\"words\",sep = '*')"
   ]
  },
  {
   "cell_type": "markdown",
   "id": "bb4e15f9",
   "metadata": {},
   "source": [
    "# Formating in string"
   ]
  },
  {
   "cell_type": "code",
   "execution_count": 18,
   "id": "07056cdc",
   "metadata": {},
   "outputs": [
    {
     "name": "stdout",
     "output_type": "stream",
     "text": [
      "Capital of India if Delhi and Delhi is number 1\n",
      "Capital of India is Delhi\n"
     ]
    }
   ],
   "source": [
    "#formating in string\n",
    "#method 1\n",
    "mystring = \"Capital of %s if %s and \\\n",
    "%s is number %d\"%(\"India\",\"Delhi\",\"Delhi\",1) \n",
    "print(mystring)\n",
    "\n",
    "#method 2\n",
    "mystring2 = \"Capital of {} is {}\".format(\"India\",\"Delhi\")\n",
    "print(mystring2)"
   ]
  },
  {
   "cell_type": "markdown",
   "id": "a6a01ce0",
   "metadata": {},
   "source": [
    "# Pickling"
   ]
  },
  {
   "cell_type": "markdown",
   "id": "178e6aa6",
   "metadata": {},
   "source": [
    "Python pickle module is used for serializing and de-serializing python object structures. The process to converts any kind of python objects (list, dict, etc.) into byte streams (0s and 1s) is called pickling or serialization or flattening or marshalling. We can converts the byte stream (generated through pickling) back into python objects by a process called as unpickling."
   ]
  },
  {
   "cell_type": "code",
   "execution_count": 19,
   "id": "3115fa75",
   "metadata": {},
   "outputs": [],
   "source": [
    "import pickle\n",
    "#name of the file where you have to store object\n",
    "file = 'file.data'\n",
    "obj = [1,2,3]\n",
    "#write to file\n",
    "f = open(file,'wb')\n",
    "#dump the object to the file\n",
    "pickle.dump(obj,f)\n",
    "f.close()"
   ]
  },
  {
   "cell_type": "code",
   "execution_count": 20,
   "id": "f2cb9c87",
   "metadata": {},
   "outputs": [
    {
     "name": "stdout",
     "output_type": "stream",
     "text": [
      "[1, 2, 3]\n"
     ]
    }
   ],
   "source": [
    "f= open(file,'rb')\n",
    "#load the object from the file\n",
    "obj = pickle.load(f)\n",
    "print(obj)\n",
    "f.close()"
   ]
  },
  {
   "cell_type": "markdown",
   "id": "af5bb88d",
   "metadata": {},
   "source": [
    "# Operators and Expressions"
   ]
  },
  {
   "cell_type": "markdown",
   "id": "e319bc92",
   "metadata": {},
   "source": [
    "Arithmeric operators\\\n",
    "Logical operators\\\n",
    "Conditional Operators\\\n",
    "Bitwise Operators\\\n",
    "Assignment Operators"
   ]
  },
  {
   "cell_type": "code",
   "execution_count": 21,
   "id": "df88deb9",
   "metadata": {},
   "outputs": [
    {
     "data": {
      "text/plain": [
       "5"
      ]
     },
     "execution_count": 21,
     "metadata": {},
     "output_type": "execute_result"
    }
   ],
   "source": [
    "2+3"
   ]
  },
  {
   "cell_type": "code",
   "execution_count": 22,
   "id": "19c1f7f6",
   "metadata": {},
   "outputs": [
    {
     "data": {
      "text/plain": [
       "-1"
      ]
     },
     "execution_count": 22,
     "metadata": {},
     "output_type": "execute_result"
    }
   ],
   "source": [
    "2-3"
   ]
  },
  {
   "cell_type": "code",
   "execution_count": 23,
   "id": "3a4985c4",
   "metadata": {},
   "outputs": [
    {
     "data": {
      "text/plain": [
       "6"
      ]
     },
     "execution_count": 23,
     "metadata": {},
     "output_type": "execute_result"
    }
   ],
   "source": [
    "2*3"
   ]
  },
  {
   "cell_type": "code",
   "execution_count": 24,
   "id": "63ffebd5",
   "metadata": {},
   "outputs": [
    {
     "data": {
      "text/plain": [
       "1.25"
      ]
     },
     "execution_count": 24,
     "metadata": {},
     "output_type": "execute_result"
    }
   ],
   "source": [
    "5/4 #Float division"
   ]
  },
  {
   "cell_type": "code",
   "execution_count": 25,
   "id": "84e7ec85",
   "metadata": {},
   "outputs": [
    {
     "data": {
      "text/plain": [
       "1"
      ]
     },
     "execution_count": 25,
     "metadata": {},
     "output_type": "execute_result"
    }
   ],
   "source": [
    "5//4 #Integer Division"
   ]
  },
  {
   "cell_type": "code",
   "execution_count": 26,
   "id": "c2827409",
   "metadata": {},
   "outputs": [
    {
     "data": {
      "text/plain": [
       "1"
      ]
     },
     "execution_count": 26,
     "metadata": {},
     "output_type": "execute_result"
    }
   ],
   "source": [
    "5%2"
   ]
  },
  {
   "cell_type": "code",
   "execution_count": 27,
   "id": "7274b1ac",
   "metadata": {},
   "outputs": [],
   "source": [
    "#<<,>>,&,|,^,~,#bit wise operators"
   ]
  },
  {
   "cell_type": "code",
   "execution_count": 28,
   "id": "6af0c63a",
   "metadata": {},
   "outputs": [],
   "source": [
    "#Conditional Operators\n"
   ]
  },
  {
   "cell_type": "code",
   "execution_count": 29,
   "id": "009e5610",
   "metadata": {},
   "outputs": [
    {
     "name": "stdout",
     "output_type": "stream",
     "text": [
      "something\n"
     ]
    }
   ],
   "source": [
    "#Logical Operators\n",
    "weather = 'sunny'\n",
    "if weather =='rainy' or True:\n",
    "    print(\"something\")\n",
    "else:\n",
    "    print(\"something else\")"
   ]
  },
  {
   "cell_type": "code",
   "execution_count": 30,
   "id": "b37a0c06",
   "metadata": {},
   "outputs": [
    {
     "name": "stdout",
     "output_type": "stream",
     "text": [
      "3\n",
      "6\n"
     ]
    }
   ],
   "source": [
    "num1 = 2\n",
    "num1 = num1 + 1\n",
    "print(num1)\n",
    "\n",
    "num=5\n",
    "num += 1 #short hand notation\n",
    "print(num)"
   ]
  },
  {
   "cell_type": "code",
   "execution_count": 31,
   "id": "ac8fbd3a",
   "metadata": {},
   "outputs": [
    {
     "name": "stdout",
     "output_type": "stream",
     "text": [
      "A\n"
     ]
    }
   ],
   "source": [
    "name =\"coding club\"\n",
    "if name == 'coding club':\n",
    "    print(\"A\")\n",
    "elif name =='coding':\n",
    "    print(\"B\")\n",
    "else:\n",
    "    print(\"C\")    "
   ]
  },
  {
   "cell_type": "markdown",
   "id": "859c0363",
   "metadata": {},
   "source": [
    "# Loops - for loops, while loops, for each loop"
   ]
  },
  {
   "cell_type": "code",
   "execution_count": 32,
   "id": "e5582611",
   "metadata": {},
   "outputs": [
    {
     "name": "stdout",
     "output_type": "stream",
     "text": [
      "1 2 3 4 5 6 7 8 9 10 11 12 13 14 15 16 17 18 19 20 "
     ]
    }
   ],
   "source": [
    "i =1\n",
    "while i<=20:\n",
    "    print(i,end=' ')\n",
    "    i+=1"
   ]
  },
  {
   "cell_type": "code",
   "execution_count": 33,
   "id": "6fb30523",
   "metadata": {},
   "outputs": [
    {
     "name": "stdout",
     "output_type": "stream",
     "text": [
      "1 2 3 4 5 6 7 8 9 10 \n",
      "1 3 5 7 9 \n",
      "10 8 6 4 2 "
     ]
    }
   ],
   "source": [
    "#printing factorial using loop\n",
    "a = range(1,10)\n",
    "\n",
    "#for i in range(start,end+1,step)\n",
    "for i in range(1,11,1):\n",
    "    print(i, end=' ')\n",
    "print()\n",
    "for i in range (1,11,2):\n",
    "    print(i,end=' ')\n",
    "print()\n",
    "\n",
    "#reverse loop -> 10 to 1\n",
    "for i in range (10,0,-2):\n",
    "    print(i,end=' ')"
   ]
  },
  {
   "cell_type": "code",
   "execution_count": 34,
   "id": "dc87dc49",
   "metadata": {},
   "outputs": [
    {
     "name": "stdout",
     "output_type": "stream",
     "text": [
      "c o d i n   c "
     ]
    }
   ],
   "source": [
    "name = 'coding club'\n",
    "for i in name:\n",
    "    if i=='g':\n",
    "        continue\n",
    "    if i=='l':\n",
    "        break\n",
    "    print(i,end=' ')"
   ]
  },
  {
   "cell_type": "code",
   "execution_count": 35,
   "id": "fcbb88b7",
   "metadata": {},
   "outputs": [
    {
     "data": {
      "text/plain": [
       "'\\nif True:\\n    #do noting \\n'"
      ]
     },
     "execution_count": 35,
     "metadata": {},
     "output_type": "execute_result"
    }
   ],
   "source": [
    "'''\n",
    "if True:\n",
    "    #do noting \n",
    "'''\n",
    "#the above block will give error because python does not support empty bolck\n",
    "#to avoid this we can use the keyword pass"
   ]
  },
  {
   "cell_type": "code",
   "execution_count": 36,
   "id": "a2468c4f",
   "metadata": {},
   "outputs": [],
   "source": [
    "if True:\n",
    "    pass"
   ]
  },
  {
   "cell_type": "markdown",
   "id": "feb791b6",
   "metadata": {},
   "source": [
    "# Functions"
   ]
  },
  {
   "cell_type": "markdown",
   "id": "719560e5",
   "metadata": {},
   "source": [
    "Functions are reusable piece of program. They allow us to give name to a block of statement so that we can run it any no. of times.This is know as calling a function. We declare function using the keyword 'def'."
   ]
  },
  {
   "cell_type": "code",
   "execution_count": 37,
   "id": "8328ab3e",
   "metadata": {},
   "outputs": [],
   "source": [
    "def say_hello(name =\"Abhishek\"):\n",
    "    print(\"hello\",name)"
   ]
  },
  {
   "cell_type": "code",
   "execution_count": 38,
   "id": "c59f7347",
   "metadata": {},
   "outputs": [
    {
     "name": "stdout",
     "output_type": "stream",
     "text": [
      "hello Abhishek\n",
      "hello Tanuja\n"
     ]
    }
   ],
   "source": [
    "say_hello()#default argument\n",
    "say_hello(\"Tanuja\") #this name is replaced by the default argument"
   ]
  },
  {
   "cell_type": "code",
   "execution_count": 39,
   "id": "84d34872",
   "metadata": {},
   "outputs": [
    {
     "name": "stdout",
     "output_type": "stream",
     "text": [
      "value of x: 7\n",
      "value of x: 2\n",
      "value of x: 50\n",
      "value of x: 2\n",
      "50\n"
     ]
    }
   ],
   "source": [
    "#local and global variable\n",
    "x = 50\n",
    "def func(x):\n",
    "    print('value of x:',x)\n",
    "    x=2\n",
    "    print('value of x:',x)\n",
    "\n",
    "func(7)\n",
    "func(x)\n",
    "print(x)"
   ]
  },
  {
   "cell_type": "code",
   "execution_count": 40,
   "id": "09af4a90",
   "metadata": {},
   "outputs": [
    {
     "name": "stdout",
     "output_type": "stream",
     "text": [
      "value of y: 50\n",
      "value of y: 2\n",
      "2\n"
     ]
    }
   ],
   "source": [
    "y = 50\n",
    "def func():\n",
    "    global y\n",
    "    print('value of y:',y)\n",
    "    y=2 #value of y changes globally\n",
    "    print('value of y:',y)\n",
    "\n",
    "func()\n",
    "print(y)"
   ]
  },
  {
   "cell_type": "markdown",
   "id": "dbb6f247",
   "metadata": {},
   "source": [
    "# Keyword Arguments"
   ]
  },
  {
   "cell_type": "code",
   "execution_count": 41,
   "id": "17e163cb",
   "metadata": {},
   "outputs": [
    {
     "name": "stdout",
     "output_type": "stream",
     "text": [
      "tanuja 2 21 1\n",
      "2 abhishek 1 21\n"
     ]
    }
   ],
   "source": [
    "def func(name,roll,age,group):\n",
    "    print(name,roll,age,group)\n",
    "func(roll=2,name='tanuja',group=1,age=21)\n",
    "func(2,'abhishek',1,21)"
   ]
  },
  {
   "cell_type": "markdown",
   "id": "3afb9efa",
   "metadata": {},
   "source": [
    "# Var args"
   ]
  },
  {
   "cell_type": "markdown",
   "id": "8a088a53",
   "metadata": {},
   "source": [
    "In Python, we can pass a variable number of arguments to a function using special symbols.There are two special symbols:\\\n",
    "Special Symbols Used for passing arguments:-\\\n",
    "1.) * args (Non-Keyword Arguments)\\\n",
    "2.) * * kwargs (Keyword Arguments)"
   ]
  },
  {
   "cell_type": "code",
   "execution_count": 42,
   "id": "be0a30dc",
   "metadata": {},
   "outputs": [
    {
     "name": "stdout",
     "output_type": "stream",
     "text": [
      "10\n",
      "20 30 40 50 tanuja \n",
      "name Diksha\n",
      "age 21\n",
      "year 2022\n",
      "l [1, 2]\n"
     ]
    }
   ],
   "source": [
    "def total(a=5,*numbers,**keyvalues):\n",
    "    print(a)\n",
    "    \n",
    "    for item in numbers:\n",
    "         print(item,end=' ')#tuples\n",
    "    print()\n",
    "    \n",
    "    for first,second in keyvalues.items():\n",
    "        print(first,second)\n",
    "        \n",
    "total(10,20,30,40,50,\"tanuja\",name=\"Diksha\",age=21,year=2022,l=[1,2])"
   ]
  },
  {
   "cell_type": "markdown",
   "id": "8b2ff652",
   "metadata": {},
   "source": [
    "# List Comprehensions\n"
   ]
  },
  {
   "cell_type": "code",
   "execution_count": 43,
   "id": "273c33c7",
   "metadata": {},
   "outputs": [
    {
     "name": "stdout",
     "output_type": "stream",
     "text": [
      "1\n",
      "[1]\n"
     ]
    }
   ],
   "source": [
    "numbers = input().split()\n",
    "list_numbers =[]\n",
    "for i in numbers:\n",
    "    list_numbers.append(int(i))\n",
    "\n",
    "print(list_numbers)"
   ]
  },
  {
   "cell_type": "code",
   "execution_count": 44,
   "id": "e0a56b22",
   "metadata": {},
   "outputs": [
    {
     "name": "stdout",
     "output_type": "stream",
     "text": [
      "1 2 3\n",
      "[1, 2, 3]\n",
      "<class 'list'>\n"
     ]
    }
   ],
   "source": [
    "list_numbers = [int(every_number) for every_number in input().split()]\n",
    "#list comprehension\n",
    "print(list_numbers)\n",
    "print(type(list_numbers))"
   ]
  },
  {
   "cell_type": "markdown",
   "id": "14441d0a",
   "metadata": {},
   "source": [
    "# Python Data Structures"
   ]
  },
  {
   "cell_type": "markdown",
   "id": "df2edb41",
   "metadata": {},
   "source": [
    "Strings\\\n",
    "Lists\\\n",
    "Tuples\\\n",
    "Dictionaries\\\n",
    "Sets\n"
   ]
  },
  {
   "cell_type": "markdown",
   "id": "2213026d",
   "metadata": {},
   "source": [
    "## Strings "
   ]
  },
  {
   "cell_type": "code",
   "execution_count": 45,
   "id": "5686a4dc",
   "metadata": {},
   "outputs": [
    {
     "name": "stdout",
     "output_type": "stream",
     "text": [
      "Tanuja Kumari Tanuja Kumari Tanuja Kumari\n"
     ]
    }
   ],
   "source": [
    "a = 'Tanuja Kumari'\n",
    "b = \"Tanuja Kumari\"\n",
    "c = '''Tanuja Kumari'''\n",
    "print(a,b,c)"
   ]
  },
  {
   "cell_type": "code",
   "execution_count": 46,
   "id": "ffa5b095",
   "metadata": {},
   "outputs": [
    {
     "name": "stdout",
     "output_type": "stream",
     "text": [
      "T\n"
     ]
    }
   ],
   "source": [
    "print(a[0])\n",
    "#print(a[2.5]) #Error: string indices must be integers"
   ]
  },
  {
   "cell_type": "markdown",
   "id": "9e234b33",
   "metadata": {},
   "source": [
    "###  Change / delete a string"
   ]
  },
  {
   "cell_type": "code",
   "execution_count": 47,
   "id": "0e29a751",
   "metadata": {},
   "outputs": [
    {
     "name": "stdout",
     "output_type": "stream",
     "text": [
      "coding\n",
      "club\n"
     ]
    }
   ],
   "source": [
    "# Strings are immutable\n",
    "\n",
    "new_string = 'coding'\n",
    "print(new_string)\n",
    "new_string = 'club' # we can change the whole string but not a particular element\n",
    "print(new_string)\n",
    "#new_string[0]='a' #error"
   ]
  },
  {
   "cell_type": "code",
   "execution_count": 48,
   "id": "fca4290a",
   "metadata": {},
   "outputs": [],
   "source": [
    "#to delete a string\n",
    "del new_string\n",
    "#print(new_string) #It will show error as it is now deleted\n",
    "#NameError: name 'new_string' is not defined"
   ]
  },
  {
   "cell_type": "markdown",
   "id": "2079d8f7",
   "metadata": {},
   "source": [
    "##  Operations\n"
   ]
  },
  {
   "cell_type": "markdown",
   "id": "f24b7891",
   "metadata": {},
   "source": [
    "- Concatination\n",
    "- Membership Test\n",
    "- String Method\n"
   ]
  },
  {
   "cell_type": "code",
   "execution_count": 49,
   "id": "0c4dd0b3",
   "metadata": {},
   "outputs": [
    {
     "name": "stdout",
     "output_type": "stream",
     "text": [
      "hello world\n"
     ]
    }
   ],
   "source": [
    "s1 = \"hello\"\n",
    "s2 = 'world'\n",
    "s3 = s1+' ' +s2\n",
    "print(s3)"
   ]
  },
  {
   "cell_type": "code",
   "execution_count": 50,
   "id": "327e4f60",
   "metadata": {},
   "outputs": [
    {
     "name": "stdout",
     "output_type": "stream",
     "text": [
      "This is the python session at AI Mafia\n"
     ]
    }
   ],
   "source": [
    "#Slicing\n",
    "a = \"This is the python session at AI Mafia\"\n",
    "print(a)"
   ]
  },
  {
   "cell_type": "code",
   "execution_count": 51,
   "id": "fd5b6060",
   "metadata": {},
   "outputs": [
    {
     "data": {
      "text/plain": [
       "12"
      ]
     },
     "execution_count": 51,
     "metadata": {},
     "output_type": "execute_result"
    }
   ],
   "source": [
    "a.find(\"python\")"
   ]
  },
  {
   "cell_type": "code",
   "execution_count": 52,
   "id": "952ed4fe",
   "metadata": {},
   "outputs": [
    {
     "data": {
      "text/plain": [
       "27"
      ]
     },
     "execution_count": 52,
     "metadata": {},
     "output_type": "execute_result"
    }
   ],
   "source": [
    "a.find(\"at\")"
   ]
  },
  {
   "cell_type": "code",
   "execution_count": 53,
   "id": "f1e92b87",
   "metadata": {},
   "outputs": [
    {
     "data": {
      "text/plain": [
       "'p'"
      ]
     },
     "execution_count": 53,
     "metadata": {},
     "output_type": "execute_result"
    }
   ],
   "source": [
    "a[12]"
   ]
  },
  {
   "cell_type": "code",
   "execution_count": 54,
   "id": "f27bf0f4",
   "metadata": {},
   "outputs": [
    {
     "data": {
      "text/plain": [
       "'a'"
      ]
     },
     "execution_count": 54,
     "metadata": {},
     "output_type": "execute_result"
    }
   ],
   "source": [
    "a[27]"
   ]
  },
  {
   "cell_type": "code",
   "execution_count": 55,
   "id": "6a33342a",
   "metadata": {},
   "outputs": [
    {
     "name": "stdout",
     "output_type": "stream",
     "text": [
      "pto eso\n"
     ]
    }
   ],
   "source": [
    "sliced = a[12:26:2]\n",
    "print(sliced)"
   ]
  },
  {
   "cell_type": "code",
   "execution_count": 56,
   "id": "003cb8c9",
   "metadata": {},
   "outputs": [
    {
     "name": "stdout",
     "output_type": "stream",
     "text": [
      "gnidoc\n"
     ]
    }
   ],
   "source": [
    "# How can I reverse the string using slicing\n",
    "c = \"coding\"\n",
    "sliced = c[::-1]\n",
    "print(sliced)"
   ]
  },
  {
   "cell_type": "code",
   "execution_count": 57,
   "id": "06fc3b6d",
   "metadata": {},
   "outputs": [
    {
     "name": "stdout",
     "output_type": "stream",
     "text": [
      "Present\n"
     ]
    }
   ],
   "source": [
    "# Membership operator\n",
    "if \"in\" in c:\n",
    "    print(\"Present\")"
   ]
  },
  {
   "cell_type": "code",
   "execution_count": 58,
   "id": "a2045598",
   "metadata": {},
   "outputs": [
    {
     "data": {
      "text/plain": [
       "'this is the python session at ai mafia'"
      ]
     },
     "execution_count": 58,
     "metadata": {},
     "output_type": "execute_result"
    }
   ],
   "source": [
    "#string method\n",
    "a.lower()"
   ]
  },
  {
   "cell_type": "code",
   "execution_count": 59,
   "id": "89b27a1a",
   "metadata": {},
   "outputs": [
    {
     "data": {
      "text/plain": [
       "'THIS IS THE PYTHON SESSION AT AI MAFIA'"
      ]
     },
     "execution_count": 59,
     "metadata": {},
     "output_type": "execute_result"
    }
   ],
   "source": [
    "a.upper()"
   ]
  },
  {
   "cell_type": "code",
   "execution_count": 60,
   "id": "70035c02",
   "metadata": {},
   "outputs": [
    {
     "data": {
      "text/plain": [
       "'This Is The Python Session At Ai Mafia'"
      ]
     },
     "execution_count": 60,
     "metadata": {},
     "output_type": "execute_result"
    }
   ],
   "source": [
    "a.title()"
   ]
  },
  {
   "cell_type": "code",
   "execution_count": 61,
   "id": "415bd7ed",
   "metadata": {},
   "outputs": [
    {
     "data": {
      "text/plain": [
       "'This is the python session at ai mafia'"
      ]
     },
     "execution_count": 61,
     "metadata": {},
     "output_type": "execute_result"
    }
   ],
   "source": [
    "a.capitalize()"
   ]
  },
  {
   "cell_type": "code",
   "execution_count": 62,
   "id": "1eecb9e5",
   "metadata": {},
   "outputs": [
    {
     "data": {
      "text/plain": [
       "38"
      ]
     },
     "execution_count": 62,
     "metadata": {},
     "output_type": "execute_result"
    }
   ],
   "source": [
    "len(a)"
   ]
  },
  {
   "cell_type": "code",
   "execution_count": 63,
   "id": "ce70d508",
   "metadata": {},
   "outputs": [
    {
     "data": {
      "text/plain": [
       "-1"
      ]
     },
     "execution_count": 63,
     "metadata": {},
     "output_type": "execute_result"
    }
   ],
   "source": [
    "a.find(\"club\") #When does not exist then gives -1 as input"
   ]
  },
  {
   "cell_type": "code",
   "execution_count": 64,
   "id": "ea9c344c",
   "metadata": {},
   "outputs": [
    {
     "data": {
      "text/plain": [
       "8"
      ]
     },
     "execution_count": 64,
     "metadata": {},
     "output_type": "execute_result"
    }
   ],
   "source": [
    "a.find(\"the\")"
   ]
  },
  {
   "cell_type": "code",
   "execution_count": 65,
   "id": "a4892588",
   "metadata": {},
   "outputs": [
    {
     "data": {
      "text/plain": [
       "8"
      ]
     },
     "execution_count": 65,
     "metadata": {},
     "output_type": "execute_result"
    }
   ],
   "source": [
    "a.index(\"the\")"
   ]
  },
  {
   "cell_type": "code",
   "execution_count": 66,
   "id": "bbe72d1d",
   "metadata": {},
   "outputs": [],
   "source": [
    "#a.index(\"club\") \n",
    "#When does not exist then gives error as input (ValueError: substring not found)\n",
    "#This is the main difference between find and index function"
   ]
  },
  {
   "cell_type": "code",
   "execution_count": 67,
   "id": "2832bc55",
   "metadata": {},
   "outputs": [],
   "source": [
    "def check_substring(string,sub):\n",
    "    if string.find(sub)==-1:\n",
    "        print(\"Not Found\")\n",
    "    else:\n",
    "        print(\"Found\")"
   ]
  },
  {
   "cell_type": "code",
   "execution_count": 68,
   "id": "935c7c2b",
   "metadata": {},
   "outputs": [
    {
     "name": "stdout",
     "output_type": "stream",
     "text": [
      "Found\n"
     ]
    }
   ],
   "source": [
    "check_substring(a,\"the\")"
   ]
  },
  {
   "cell_type": "code",
   "execution_count": 69,
   "id": "feb563f0",
   "metadata": {},
   "outputs": [],
   "source": [
    "# to explore more functions\n",
    "# type a. then tab\n",
    "#a.\n"
   ]
  },
  {
   "cell_type": "markdown",
   "id": "021a4262",
   "metadata": {},
   "source": [
    "# List"
   ]
  },
  {
   "cell_type": "code",
   "execution_count": 70,
   "id": "a00b3692",
   "metadata": {},
   "outputs": [
    {
     "name": "stdout",
     "output_type": "stream",
     "text": [
      "[] <class 'list'>\n",
      "[] <class 'list'>\n"
     ]
    }
   ],
   "source": [
    "# It is an hetrogeneous array\n",
    "l = []\n",
    "l2 = list() #list constructor\n",
    "print(l,type(l))\n",
    "print(l2,type(l2))"
   ]
  },
  {
   "cell_type": "code",
   "execution_count": 71,
   "id": "d7a72ff3",
   "metadata": {},
   "outputs": [
    {
     "name": "stdout",
     "output_type": "stream",
     "text": [
      "['mango', 'banana'] ['mango', 2, 3.2]\n",
      "banana\n"
     ]
    }
   ],
   "source": [
    "l = [\"mango\",\"banana\"]\n",
    "l2 = list([\"mango\",2,3.2])\n",
    "print(l,l2)\n",
    "print(l[1])#list is mutable"
   ]
  },
  {
   "cell_type": "code",
   "execution_count": 72,
   "id": "721433de",
   "metadata": {},
   "outputs": [
    {
     "name": "stdout",
     "output_type": "stream",
     "text": [
      "[1, 2, 3, 4]\n",
      "[1, 2, 3, 4, 1, 2, 3, 4]\n",
      "[1, 2, 3, 4, 1, 2, 3, 4, 1, 2, 3, 4, 1, 2, 3, 4]\n",
      "[1, 2, 3, 4, 1, 2, 3, 4, 1, 2, 3, 4, 1, 2, 3, 4, [...]]\n",
      "17\n"
     ]
    }
   ],
   "source": [
    "l=[1,2,3,4]\n",
    "print(l)\n",
    "l+=l\n",
    "print(l)\n",
    "l.extend(l)\n",
    "print(l)\n",
    "l.append(l)\n",
    "print(l)\n",
    "print(len(l))"
   ]
  },
  {
   "cell_type": "code",
   "execution_count": 73,
   "id": "1f3b5d9c",
   "metadata": {},
   "outputs": [
    {
     "data": {
      "text/plain": [
       "17"
      ]
     },
     "execution_count": 73,
     "metadata": {},
     "output_type": "execute_result"
    }
   ],
   "source": [
    "len(l)"
   ]
  },
  {
   "cell_type": "code",
   "execution_count": 74,
   "id": "fdcdbbea",
   "metadata": {},
   "outputs": [
    {
     "name": "stdout",
     "output_type": "stream",
     "text": [
      "[1, 2, 'apple', 3, 'apple', 3]\n"
     ]
    }
   ],
   "source": [
    "lst = [1,2,3,\"apple\",3]\n",
    "lst.insert(2,\"apple\")\n",
    "print(lst)"
   ]
  },
  {
   "cell_type": "code",
   "execution_count": 75,
   "id": "9ced9f34",
   "metadata": {},
   "outputs": [],
   "source": [
    "lst.remove(\"apple\")"
   ]
  },
  {
   "cell_type": "code",
   "execution_count": 76,
   "id": "50439532",
   "metadata": {},
   "outputs": [
    {
     "data": {
      "text/plain": [
       "[1, 2, 3, 'apple', 3]"
      ]
     },
     "execution_count": 76,
     "metadata": {},
     "output_type": "execute_result"
    }
   ],
   "source": [
    "lst"
   ]
  },
  {
   "cell_type": "code",
   "execution_count": 77,
   "id": "f87a4cd4",
   "metadata": {},
   "outputs": [
    {
     "data": {
      "text/plain": [
       "3"
      ]
     },
     "execution_count": 77,
     "metadata": {},
     "output_type": "execute_result"
    }
   ],
   "source": [
    "lst.pop()"
   ]
  },
  {
   "cell_type": "code",
   "execution_count": 78,
   "id": "1a4d6943",
   "metadata": {},
   "outputs": [
    {
     "data": {
      "text/plain": [
       "[1, 2, 3, 'apple']"
      ]
     },
     "execution_count": 78,
     "metadata": {},
     "output_type": "execute_result"
    }
   ],
   "source": [
    "lst"
   ]
  },
  {
   "cell_type": "code",
   "execution_count": 79,
   "id": "a3d5ab91",
   "metadata": {},
   "outputs": [
    {
     "name": "stdout",
     "output_type": "stream",
     "text": [
      "[2, 3, 'apple']\n"
     ]
    }
   ],
   "source": [
    "del lst[0]\n",
    "print(lst)"
   ]
  },
  {
   "cell_type": "code",
   "execution_count": 80,
   "id": "ed3c0f07",
   "metadata": {},
   "outputs": [
    {
     "name": "stdout",
     "output_type": "stream",
     "text": [
      "[1, 2, 3, 1, 2, 3, 1, 2, 3]\n",
      "[3, 2, 1, 3, 2, 1, 3, 2, 1]\n",
      "[1, 2, 3, 1, 2, 3, 1, 2, 3]\n"
     ]
    }
   ],
   "source": [
    "#reversing the list\n",
    "lst = [1,2,3]\n",
    "lst = lst*3\n",
    "print(lst)\n",
    "lst.reverse()\n",
    "print(lst)\n",
    "lst=lst[::-1]\n",
    "print(lst)"
   ]
  },
  {
   "cell_type": "code",
   "execution_count": 81,
   "id": "ca562526",
   "metadata": {},
   "outputs": [
    {
     "name": "stdout",
     "output_type": "stream",
     "text": [
      "abc\n",
      "abcabc\n"
     ]
    }
   ],
   "source": [
    "str1 = \"abc\"\n",
    "print(str1)\n",
    "str1 = str1*2\n",
    "print(str1)"
   ]
  },
  {
   "cell_type": "code",
   "execution_count": 82,
   "id": "bac0e87a",
   "metadata": {},
   "outputs": [
    {
     "name": "stdout",
     "output_type": "stream",
     "text": [
      "[1, 1, 2, 2, 2, 3, 3, 4, 5]\n",
      "[1, 2, 2, 3, 3, 4, 5, 11, 22]\n"
     ]
    }
   ],
   "source": [
    "#sorted array numbers\n",
    "numbers = [1,2,3,4,5,1,2,3,2]\n",
    "sorted_list = sorted(numbers)\n",
    "print(sorted_list)\n",
    "\n",
    "numbers2 = [11,22,3,4,5,1,2,3,2]\n",
    "sorted_list = sorted(numbers2)\n",
    "print(sorted_list)"
   ]
  },
  {
   "cell_type": "code",
   "execution_count": 83,
   "id": "5c9ca8e3",
   "metadata": {},
   "outputs": [
    {
     "name": "stdout",
     "output_type": "stream",
     "text": [
      "[1, 2, 3, 4, 6]\n",
      "[1, 2, 3, 4, 6]\n"
     ]
    }
   ],
   "source": [
    "lst = [1,2,3,4]\n",
    "abc = lst \n",
    "abc.append(6)\n",
    "print(lst)\n",
    "print(abc)"
   ]
  },
  {
   "cell_type": "code",
   "execution_count": 84,
   "id": "c9853b25",
   "metadata": {},
   "outputs": [
    {
     "name": "stdout",
     "output_type": "stream",
     "text": [
      "2954674034496\n",
      "2954674034496\n"
     ]
    }
   ],
   "source": [
    "print(id(lst))\n",
    "print(id(abc))"
   ]
  },
  {
   "cell_type": "markdown",
   "id": "10cf7b07",
   "metadata": {},
   "source": [
    "# Tuple"
   ]
  },
  {
   "cell_type": "code",
   "execution_count": 85,
   "id": "8bce454f",
   "metadata": {},
   "outputs": [
    {
     "name": "stdout",
     "output_type": "stream",
     "text": [
      "(1, 2, 'numbers', 3.5) <class 'tuple'>\n"
     ]
    }
   ],
   "source": [
    "# Tuple is immutable\n",
    "#two methods to declare it\n",
    "t = (1,2,\"numbers\",3.5)\n",
    "print(t,type(t))"
   ]
  },
  {
   "cell_type": "code",
   "execution_count": 86,
   "id": "48a818cb",
   "metadata": {},
   "outputs": [],
   "source": [
    "#t[3]=4 \n",
    "#not allowed\n",
    "#TypeError: 'tuple' object does not support item assignment"
   ]
  },
  {
   "cell_type": "code",
   "execution_count": 87,
   "id": "6bfeca1d",
   "metadata": {},
   "outputs": [
    {
     "name": "stdout",
     "output_type": "stream",
     "text": [
      "abhishek <class 'str'>\n",
      "('abhishek',) <class 'tuple'>\n",
      "['abhishek'] <class 'list'>\n"
     ]
    }
   ],
   "source": [
    "t = (\"abhishek\") #it is not tuple\n",
    "print(t,type(t))\n",
    "t = (\"abhishek\",) #it is tuple\n",
    "print(t,type(t))\n",
    "t = [\"abhishek\"] #it is not string, it is list\n",
    "print(t,type(t))"
   ]
  },
  {
   "cell_type": "code",
   "execution_count": 88,
   "id": "a8398cae",
   "metadata": {},
   "outputs": [
    {
     "data": {
      "text/plain": [
       "'abhishek'"
      ]
     },
     "execution_count": 88,
     "metadata": {},
     "output_type": "execute_result"
    }
   ],
   "source": [
    "t[-1]"
   ]
  },
  {
   "cell_type": "code",
   "execution_count": 89,
   "id": "b7a34e2a",
   "metadata": {},
   "outputs": [
    {
     "name": "stdout",
     "output_type": "stream",
     "text": [
      "tanuja\n",
      "a\n",
      "j\n"
     ]
    }
   ],
   "source": [
    "t = (\"tanuja\",)\n",
    "print(t[-1])\n",
    "print(t[-1][-1])\n",
    "print(t[-1][-2])"
   ]
  },
  {
   "cell_type": "code",
   "execution_count": 90,
   "id": "0e121b74",
   "metadata": {},
   "outputs": [
    {
     "name": "stdout",
     "output_type": "stream",
     "text": [
      "(1, 2)\n"
     ]
    }
   ],
   "source": [
    "t1=(1,2)\n",
    "print(t1)\n",
    "del(t1)"
   ]
  },
  {
   "cell_type": "code",
   "execution_count": 91,
   "id": "77233856",
   "metadata": {},
   "outputs": [],
   "source": [
    "#print(t1)\n",
    "#NameError: name 't1' is not defined"
   ]
  },
  {
   "cell_type": "code",
   "execution_count": 92,
   "id": "780bb36d",
   "metadata": {},
   "outputs": [],
   "source": [
    "t = (1,2,3,1,2,3,43,54,2)"
   ]
  },
  {
   "cell_type": "code",
   "execution_count": 93,
   "id": "2e35d757",
   "metadata": {},
   "outputs": [
    {
     "data": {
      "text/plain": [
       "2"
      ]
     },
     "execution_count": 93,
     "metadata": {},
     "output_type": "execute_result"
    }
   ],
   "source": [
    "t.count(1)"
   ]
  },
  {
   "cell_type": "code",
   "execution_count": 94,
   "id": "4171ce24",
   "metadata": {},
   "outputs": [
    {
     "data": {
      "text/plain": [
       "2"
      ]
     },
     "execution_count": 94,
     "metadata": {},
     "output_type": "execute_result"
    }
   ],
   "source": [
    "t.index(3)"
   ]
  },
  {
   "cell_type": "code",
   "execution_count": 95,
   "id": "9deb5964",
   "metadata": {},
   "outputs": [
    {
     "name": "stdout",
     "output_type": "stream",
     "text": [
      "True\n"
     ]
    }
   ],
   "source": [
    "print(2 in t)"
   ]
  },
  {
   "cell_type": "code",
   "execution_count": 96,
   "id": "7f1acf78",
   "metadata": {},
   "outputs": [
    {
     "data": {
      "text/plain": [
       "111"
      ]
     },
     "execution_count": 96,
     "metadata": {},
     "output_type": "execute_result"
    }
   ],
   "source": [
    "sum(t)"
   ]
  },
  {
   "cell_type": "code",
   "execution_count": 97,
   "id": "cc8ccf3a",
   "metadata": {},
   "outputs": [
    {
     "data": {
      "text/plain": [
       "[1, 1, 2, 2, 2, 3, 3, 43, 54]"
      ]
     },
     "execution_count": 97,
     "metadata": {},
     "output_type": "execute_result"
    }
   ],
   "source": [
    "sorted(t)\n",
    "#t.sort() #does not work with tuple because tuples are immutable"
   ]
  },
  {
   "cell_type": "markdown",
   "id": "7a5e4cfc",
   "metadata": {},
   "source": [
    "# Sets"
   ]
  },
  {
   "cell_type": "code",
   "execution_count": 98,
   "id": "a453eb41",
   "metadata": {},
   "outputs": [
    {
     "name": "stdout",
     "output_type": "stream",
     "text": [
      "{1, 2, 3, 4} <class 'set'>\n"
     ]
    }
   ],
   "source": [
    "# unordered collection of items, unique elements, mutable\n",
    "\n",
    "s={1,2,3,4}\n",
    "print(s,type(s))"
   ]
  },
  {
   "cell_type": "code",
   "execution_count": 99,
   "id": "900c4355",
   "metadata": {},
   "outputs": [
    {
     "name": "stdout",
     "output_type": "stream",
     "text": [
      "{1, 2, 3}\n"
     ]
    }
   ],
   "source": [
    "a = set({1,2,3}) #set using constructor\n",
    "print(a)"
   ]
  },
  {
   "cell_type": "code",
   "execution_count": 100,
   "id": "65336735",
   "metadata": {},
   "outputs": [
    {
     "name": "stdout",
     "output_type": "stream",
     "text": [
      "{1, 2, 3, 4}\n"
     ]
    }
   ],
   "source": [
    "a.add(4)\n",
    "print(a)"
   ]
  },
  {
   "cell_type": "code",
   "execution_count": 101,
   "id": "6fb8e7d9",
   "metadata": {},
   "outputs": [],
   "source": [
    "# print(a[0]) #not allowed as it is unordered\n"
   ]
  },
  {
   "cell_type": "code",
   "execution_count": 102,
   "id": "c617335a",
   "metadata": {},
   "outputs": [],
   "source": [
    "a.update([5,6,2])"
   ]
  },
  {
   "cell_type": "code",
   "execution_count": 103,
   "id": "9689be3b",
   "metadata": {},
   "outputs": [
    {
     "name": "stdout",
     "output_type": "stream",
     "text": [
      "{1, 2, 3, 4, 5, 6}\n"
     ]
    }
   ],
   "source": [
    "print(a)"
   ]
  },
  {
   "cell_type": "code",
   "execution_count": 104,
   "id": "d8aa4033",
   "metadata": {},
   "outputs": [
    {
     "name": "stdout",
     "output_type": "stream",
     "text": [
      "{1, 2, 3, 5, 6}\n"
     ]
    }
   ],
   "source": [
    "a.discard(4)\n",
    "print(a)"
   ]
  },
  {
   "cell_type": "code",
   "execution_count": 105,
   "id": "a648b18f",
   "metadata": {},
   "outputs": [
    {
     "name": "stdout",
     "output_type": "stream",
     "text": [
      "{1, 2, 5, 6}\n"
     ]
    }
   ],
   "source": [
    "a.remove(3)\n",
    "print(a)"
   ]
  },
  {
   "cell_type": "code",
   "execution_count": 106,
   "id": "3db12460",
   "metadata": {},
   "outputs": [
    {
     "name": "stdout",
     "output_type": "stream",
     "text": [
      "{2, 5, 6}\n"
     ]
    }
   ],
   "source": [
    "a.pop()\n",
    "print(a)#pops any random element"
   ]
  },
  {
   "cell_type": "code",
   "execution_count": 107,
   "id": "7d2f487c",
   "metadata": {},
   "outputs": [
    {
     "name": "stdout",
     "output_type": "stream",
     "text": [
      "set()\n"
     ]
    }
   ],
   "source": [
    "a.clear()# clears the set\n",
    "print(a)#empty set"
   ]
  },
  {
   "cell_type": "markdown",
   "id": "87d68694",
   "metadata": {},
   "source": [
    "### Operations on set"
   ]
  },
  {
   "cell_type": "code",
   "execution_count": 108,
   "id": "bcf63647",
   "metadata": {},
   "outputs": [
    {
     "name": "stdout",
     "output_type": "stream",
     "text": [
      "{1, 2, 3, 4, 5, 6, 8}\n",
      "{1, 2, 3, 4, 5, 6, 8}\n",
      "{1, 4, 5}\n",
      "{2, 3}\n",
      "{2, 3, 6, 8}\n"
     ]
    }
   ],
   "source": [
    "set1= {1,2,3,4,5}\n",
    "set2 = {4,5, 6,8,1}\n",
    "#union\n",
    "print(set1|set2)\n",
    "print(set1.union(set2))\n",
    "\n",
    "#intersection\n",
    "print(set1&set2)\n",
    "\n",
    "#difference\n",
    "print(set1-set2)\n",
    "\n",
    "#symmetric difference\n",
    "print(set1 ^ set2) #union - intersection\n",
    "\n"
   ]
  },
  {
   "cell_type": "code",
   "execution_count": 109,
   "id": "138d665e",
   "metadata": {},
   "outputs": [
    {
     "data": {
      "text/plain": [
       "False"
      ]
     },
     "execution_count": 109,
     "metadata": {},
     "output_type": "execute_result"
    }
   ],
   "source": [
    "set2.issubset(set1)"
   ]
  },
  {
   "cell_type": "markdown",
   "id": "2502d7f0",
   "metadata": {},
   "source": [
    "# Dictionaries "
   ]
  },
  {
   "cell_type": "code",
   "execution_count": 110,
   "id": "8b153146",
   "metadata": {},
   "outputs": [],
   "source": [
    "# key -value pair\n",
    "#hashmaps- c++, java\n",
    "#Json - javascript\n",
    "#Dictionaries - python - key value pairs"
   ]
  },
  {
   "cell_type": "code",
   "execution_count": 111,
   "id": "622afec0",
   "metadata": {},
   "outputs": [
    {
     "name": "stdout",
     "output_type": "stream",
     "text": [
      "{'name': 'tanuja', 'age': 21} <class 'dict'>\n"
     ]
    }
   ],
   "source": [
    "dictionary = {\"name\":\"tanuja\",\"age\":21}\n",
    "print(dictionary,type(dictionary))"
   ]
  },
  {
   "cell_type": "code",
   "execution_count": 112,
   "id": "9516075a",
   "metadata": {},
   "outputs": [
    {
     "name": "stdout",
     "output_type": "stream",
     "text": [
      "<class 'set'> <class 'dict'> <class 'set'>\n"
     ]
    }
   ],
   "source": [
    "set1 = {1,2,3}\n",
    "set2={} #can't declare empty set like this, it is dictionary\n",
    "set3=set() #empty set can be created using set constructor only\n",
    "\n",
    "print(type(set1),type(set2),type(set3))"
   ]
  },
  {
   "cell_type": "code",
   "execution_count": 113,
   "id": "0281b76a",
   "metadata": {},
   "outputs": [
    {
     "name": "stdout",
     "output_type": "stream",
     "text": [
      "tanuja\n",
      "None\n"
     ]
    }
   ],
   "source": [
    "#how to access the elements of the dictionary\n",
    "#based on the key\n",
    "print(dictionary[\"name\"])#[] brackeys are used to access\n",
    "\n",
    "#if the key is not present\n",
    "#dictionary['key']\n",
    "#to avaoid error \n",
    "print(dictionary.get('key')) #returns null if key is not present"
   ]
  },
  {
   "cell_type": "code",
   "execution_count": 114,
   "id": "33b88fa3",
   "metadata": {},
   "outputs": [],
   "source": [
    "#add or modify\n",
    "dictionary['city']='delhi'\n"
   ]
  },
  {
   "cell_type": "code",
   "execution_count": 115,
   "id": "5a9434a1",
   "metadata": {},
   "outputs": [
    {
     "data": {
      "text/plain": [
       "{'name': 'tanuja', 'age': 21, 'city': 'delhi'}"
      ]
     },
     "execution_count": 115,
     "metadata": {},
     "output_type": "execute_result"
    }
   ],
   "source": [
    "dictionary"
   ]
  },
  {
   "cell_type": "code",
   "execution_count": 116,
   "id": "17d62449",
   "metadata": {},
   "outputs": [
    {
     "data": {
      "text/plain": [
       "('city', 'delhi')"
      ]
     },
     "execution_count": 116,
     "metadata": {},
     "output_type": "execute_result"
    }
   ],
   "source": [
    "dictionary.popitem()"
   ]
  },
  {
   "cell_type": "code",
   "execution_count": 117,
   "id": "055e7080",
   "metadata": {},
   "outputs": [
    {
     "name": "stdout",
     "output_type": "stream",
     "text": [
      "{'name': 'tanuja', 'age': 21}\n"
     ]
    }
   ],
   "source": [
    "print(dictionary)"
   ]
  },
  {
   "cell_type": "code",
   "execution_count": 118,
   "id": "50b3156e",
   "metadata": {},
   "outputs": [],
   "source": [
    "del dictionary['name']"
   ]
  },
  {
   "cell_type": "code",
   "execution_count": 119,
   "id": "640353bd",
   "metadata": {},
   "outputs": [
    {
     "name": "stdout",
     "output_type": "stream",
     "text": [
      "{'age': 21}\n"
     ]
    }
   ],
   "source": [
    "print(dictionary)"
   ]
  },
  {
   "cell_type": "code",
   "execution_count": 120,
   "id": "c6e1aab4",
   "metadata": {},
   "outputs": [],
   "source": [
    "dictionary.clear()"
   ]
  },
  {
   "cell_type": "code",
   "execution_count": 121,
   "id": "00775ff3",
   "metadata": {},
   "outputs": [
    {
     "name": "stdout",
     "output_type": "stream",
     "text": [
      "{}\n"
     ]
    }
   ],
   "source": [
    "print(dictionary)"
   ]
  },
  {
   "cell_type": "code",
   "execution_count": 122,
   "id": "13fbbb27",
   "metadata": {},
   "outputs": [
    {
     "data": {
      "text/plain": [
       "dict_keys(['name', 'age'])"
      ]
     },
     "execution_count": 122,
     "metadata": {},
     "output_type": "execute_result"
    }
   ],
   "source": [
    "dictionary = {\"name\":\"tanuja\",\"age\":21}\n",
    "dictionary.keys()"
   ]
  },
  {
   "cell_type": "code",
   "execution_count": 123,
   "id": "7dda2979",
   "metadata": {},
   "outputs": [
    {
     "data": {
      "text/plain": [
       "dict_values(['tanuja', 21])"
      ]
     },
     "execution_count": 123,
     "metadata": {},
     "output_type": "execute_result"
    }
   ],
   "source": [
    "dictionary.values()"
   ]
  },
  {
   "cell_type": "code",
   "execution_count": 124,
   "id": "1edc37b6",
   "metadata": {},
   "outputs": [
    {
     "data": {
      "text/plain": [
       "dict_items([('name', 'tanuja'), ('age', 21)])"
      ]
     },
     "execution_count": 124,
     "metadata": {},
     "output_type": "execute_result"
    }
   ],
   "source": [
    "dictionary.items()"
   ]
  },
  {
   "cell_type": "code",
   "execution_count": 125,
   "id": "add36b61",
   "metadata": {},
   "outputs": [
    {
     "name": "stdout",
     "output_type": "stream",
     "text": [
      "key is name and value is tanuja\n",
      "key is age and value is 21\n"
     ]
    }
   ],
   "source": [
    "#applying loop\n",
    "for k,v in dictionary.items():\n",
    "    print(\"key is {} and value is {}\".format(k,v))"
   ]
  },
  {
   "cell_type": "markdown",
   "id": "485676b7",
   "metadata": {},
   "source": [
    "# Advance Concepts Python"
   ]
  },
  {
   "cell_type": "markdown",
   "id": "24bcc536",
   "metadata": {},
   "source": [
    "- Classes and objects (OOPS)\n",
    "- Exception Handling"
   ]
  },
  {
   "cell_type": "code",
   "execution_count": 126,
   "id": "1f80d401",
   "metadata": {},
   "outputs": [],
   "source": [
    "class Student:\n",
    "    pass"
   ]
  },
  {
   "cell_type": "code",
   "execution_count": 127,
   "id": "d19f9429",
   "metadata": {},
   "outputs": [
    {
     "name": "stdout",
     "output_type": "stream",
     "text": [
      "<__main__.Student object at 0x000002AFF15A3E50>\n"
     ]
    }
   ],
   "source": [
    "p = Student()\n",
    "print(p)"
   ]
  },
  {
   "cell_type": "code",
   "execution_count": 128,
   "id": "2a531f1f",
   "metadata": {},
   "outputs": [],
   "source": [
    "#Self keyword"
   ]
  },
  {
   "cell_type": "code",
   "execution_count": 129,
   "id": "44018c22",
   "metadata": {},
   "outputs": [
    {
     "name": "stdout",
     "output_type": "stream",
     "text": [
      "Hello\n",
      "Hello\n",
      "None\n",
      "<class 'NoneType'>\n"
     ]
    }
   ],
   "source": [
    "class Student1:\n",
    "    def sayHello():\n",
    "        print(\"Hello\")\n",
    "        \n",
    "Student1.sayHello()\n",
    "p = Student1.sayHello()\n",
    "print(p)\n",
    "print(type(p))"
   ]
  },
  {
   "cell_type": "code",
   "execution_count": 130,
   "id": "ad92e1ee",
   "metadata": {},
   "outputs": [
    {
     "name": "stdout",
     "output_type": "stream",
     "text": [
      "Hello Tanuja\n"
     ]
    }
   ],
   "source": [
    "#init method\n",
    "\n",
    "class Student2:\n",
    "    def __init__(self,name):\n",
    "        self.name = name\n",
    "    def sayHello(self):\n",
    "        print(\"Hello\",self.name)\n",
    "    \n",
    "Student2('Tanuja').sayHello()"
   ]
  },
  {
   "cell_type": "code",
   "execution_count": 131,
   "id": "1e933779",
   "metadata": {},
   "outputs": [],
   "source": [
    "#Constructors and destructors\n",
    "class Person():\n",
    "    #class variable\n",
    "    number = 0 #number of persons inviked\n",
    "    \n",
    "    def __init__(self,name):\n",
    "        #Initialise some data\n",
    "        self.name = name\n",
    "        print(\"Initialising {}\".format(self.name))\n",
    "        \n",
    "        Person.number+=1\n",
    "        \n",
    "    def destruct(self):\n",
    "        #It will die\n",
    "        print(\"I am dying {}\".format(self.name))\n",
    "        Person.number-=1\n",
    "        \n",
    "    def sayHello(self):\n",
    "        #greet\n",
    "        print(\"Hello {}\".format(self.name))\n",
    "        \n",
    "    @classmethod #decorator\n",
    "    def how_many(cls):#cls stands for current class\n",
    "        print(\"Number of persons: {}\".format(cls.number))\n",
    "        "
   ]
  },
  {
   "cell_type": "code",
   "execution_count": 132,
   "id": "6edae984",
   "metadata": {},
   "outputs": [
    {
     "name": "stdout",
     "output_type": "stream",
     "text": [
      "Initialising Tanuja\n",
      "Hello Tanuja\n",
      "Number of persons: 1\n",
      "Initialising Diksha\n",
      "Hello Diksha\n",
      "Number of persons: 2\n"
     ]
    }
   ],
   "source": [
    "person1 = Person(\"Tanuja\")\n",
    "person1.sayHello()\n",
    "Person.how_many()\n",
    "\n",
    "person1 = Person(\"Diksha\")\n",
    "person1.sayHello()\n",
    "Person.how_many()"
   ]
  },
  {
   "cell_type": "code",
   "execution_count": 133,
   "id": "4c604063",
   "metadata": {},
   "outputs": [
    {
     "name": "stdout",
     "output_type": "stream",
     "text": [
      "I am dying Diksha\n"
     ]
    }
   ],
   "source": [
    "person1.destruct()"
   ]
  },
  {
   "cell_type": "code",
   "execution_count": 134,
   "id": "468efd87",
   "metadata": {},
   "outputs": [
    {
     "name": "stdout",
     "output_type": "stream",
     "text": [
      "Number of persons: 1\n"
     ]
    }
   ],
   "source": [
    "Person.how_many()"
   ]
  },
  {
   "cell_type": "markdown",
   "id": "49d08952",
   "metadata": {},
   "source": [
    "# Exceptional Handling"
   ]
  },
  {
   "cell_type": "code",
   "execution_count": 135,
   "id": "7d0fc34f",
   "metadata": {},
   "outputs": [
    {
     "name": "stdout",
     "output_type": "stream",
     "text": [
      "zero division error\n",
      "It runs\n"
     ]
    }
   ],
   "source": [
    "try:\n",
    "    print(1/0)\n",
    "except:\n",
    "    print(\"zero division error\")\n",
    "finally:\n",
    "    print(\"It runs\")"
   ]
  }
 ],
 "metadata": {
  "kernelspec": {
   "display_name": "Python 3 (ipykernel)",
   "language": "python",
   "name": "python3"
  },
  "language_info": {
   "codemirror_mode": {
    "name": "ipython",
    "version": 3
   },
   "file_extension": ".py",
   "mimetype": "text/x-python",
   "name": "python",
   "nbconvert_exporter": "python",
   "pygments_lexer": "ipython3",
   "version": "3.9.7"
  }
 },
 "nbformat": 4,
 "nbformat_minor": 5
}
